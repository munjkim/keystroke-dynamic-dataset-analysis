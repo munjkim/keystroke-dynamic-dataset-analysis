{
 "cells": [
  {
   "cell_type": "code",
   "execution_count": 34,
   "metadata": {},
   "outputs": [],
   "source": [
    "import numpy as np\n",
    "import pandas as pd\n",
    "from sklearn.preprocessing import StandardScaler\n",
    "from sklearn.neural_network import MLPClassifier\n",
    "from sklearn import svm\n",
    "from sklearn.model_selection import train_test_split, RandomizedSearchCV\n",
    "from sklearn.metrics import accuracy_score, roc_curve, auc\n",
    "import matplotlib.pyplot as plt\n",
    "from sklearn.preprocessing import MinMaxScaler\n",
    "\n",
    "from scipy.stats import uniform, randint\n",
    "\n",
    "df = pd.read_csv('./data/fixed-text_CMU.csv')\n",
    "df['subject'] = df['subject'].str.replace('s','').astype(int)\n",
    "# df = df.drop(['sessionIndex', 'rep'], axis = 1\n",
    "\n",
    "Subject = df['subject'].unique()"
   ]
  },
  {
   "cell_type": "markdown",
   "metadata": {},
   "source": [
    "# Test / Train data"
   ]
  },
  {
   "cell_type": "code",
   "execution_count": 35,
   "metadata": {},
   "outputs": [],
   "source": [
    "# Define the genuine user's subject ID\n",
    "# for 문으로 변경 가능\n",
    "\n",
    "# genuine_subject = 19\n",
    "\n",
    "def split_data(df, genuine_subject):\n",
    "    train_features_genuine = pd.DataFrame()\n",
    "    train_label_genuine = pd.Series(dtype=int)\n",
    "\n",
    "    train_features_genuine = pd.concat([train_features_genuine, \n",
    "                                        df[(df['subject'] == genuine_subject) & (df['sessionIndex'] <= 4)].drop(['sessionIndex', 'rep', 'subject'], axis=1)])\n",
    "    train_label_genuine = pd.concat([train_label_genuine,\n",
    "                                        df[(df['subject'] == genuine_subject) & (df['sessionIndex'] <= 4)]['subject']])\n",
    "\n",
    "    # Initialize empty DataFrames and Series\n",
    "    test_features_genuine = pd.DataFrame()\n",
    "    test_features_impostor = pd.DataFrame()\n",
    "    test_label_genuine = pd.Series(dtype=int)\n",
    "    test_label_impostor = pd.Series(dtype=int)\n",
    "\n",
    "    # Iterate over unique subjects\n",
    "    for user in df['subject'].unique():\n",
    "        if user == genuine_subject:\n",
    "            test_features_genuine = pd.concat([test_features_genuine, \n",
    "                                        df[(df['subject'] == genuine_subject) & (df['sessionIndex'] > 4)].drop(['sessionIndex', 'rep', 'subject'], axis=1)])\n",
    "            test_label_genuine = pd.concat([test_label_genuine, \n",
    "                                    df[(df['subject'] == genuine_subject) & (df['sessionIndex'] > 4)]['subject']])\n",
    "        else:\n",
    "            test_features_impostor = pd.concat([test_features_impostor, \n",
    "                                        df[(df['subject'] == user) & (df['sessionIndex'] == 1) & (df['rep'] <= 5)].drop(['sessionIndex', 'rep', 'subject'], axis=1)])\n",
    "            test_label_impostor = pd.concat([test_label_impostor, \n",
    "                                        df[(df['subject'] == user) & (df['sessionIndex'] == 1) & (df['rep'] <= 5)]['subject']])\n",
    "            \n",
    "    # Reset the index of the DataFrames\n",
    "    # train_features_genuine.reset_index(drop=True, inplace=True)\n",
    "    # test_features_genuine.reset_index(drop=True, inplace=True)\n",
    "    # test_features_impostor.reset_index(drop=True, inplace=True)\n",
    "    # train_label_genuine.reset_index(drop=True, inplace=True)\n",
    "\n",
    "    # Check for NaN or infinite values in the training data\n",
    "    assert not train_features_genuine.isnull().values.any(), \"Training data contains NaN values\"\n",
    "    assert np.isfinite(train_features_genuine.values).all(), \"Training data contains infinite values\"\n",
    "\n",
    "    assert not test_features_genuine.isnull().values.any(), \"Genuine test data contains NaN values\"\n",
    "    assert np.isfinite(test_features_genuine.values).all(), \"Test data contains infinite values\"\n",
    "\n",
    "    assert not test_features_impostor.isnull().values.any(), \"Impostor test data contains NaN values\"\n",
    "    assert np.isfinite(test_features_impostor.values).all(), \"Test data contains infinite values\"\n",
    "\n",
    "    return train_features_genuine, train_label_genuine, test_features_genuine, test_label_genuine, test_features_impostor, test_label_impostor\n",
    "\n",
    "def normalizing_distance(user_scores, impostor_scores):\n",
    "    # Normalize the distances to [0, 1]\n",
    "    scaler = MinMaxScaler()\n",
    "    all_scores = np.array(user_scores + impostor_scores).reshape(-1, 1)\n",
    "    all_scores_normalized = scaler.fit_transform(all_scores)\n",
    "\n",
    "    # Split the normalized scores back into user and impostor scores\n",
    "    user_scores_normalized = all_scores_normalized[:len(user_scores)].flatten()\n",
    "    impostor_scores_normalized = all_scores_normalized[len(user_scores):].flatten()\n",
    "\n",
    "    return user_scores_normalized, impostor_scores_normalized"
   ]
  },
  {
   "cell_type": "markdown",
   "metadata": {},
   "source": [
    "# Nearest neighborhood (Mahalanobis)"
   ]
  },
  {
   "cell_type": "code",
   "execution_count": 36,
   "metadata": {},
   "outputs": [],
   "source": [
    "from sklearn.neighbors import NearestNeighbors\n",
    "from scipy.spatial.distance import mahalanobis\n",
    "\n",
    "\n",
    "def nearest_neighbor_mahalanobis(\n",
    "        train_features_genuine, train_label_genuine,\n",
    "        test_features_genuine, test_label_genuine,\n",
    "        test_features_impostor, test_label_impostor):\n",
    "    \n",
    "    # Calculate the covariance matrix\n",
    "    cov_matrix = np.cov(train_features_genuine, rowvar=False)\n",
    "    regularization_value = 1e-8\n",
    "    cov_matrix += np.eye(cov_matrix.shape[0]) * regularization_value\n",
    "\n",
    "    inv_cov_matrix = np.linalg.inv(cov_matrix)\n",
    "\n",
    "    # Calculate the Mahalanobis distance\n",
    "    def mahalanobis_distance(u, v, VI):\n",
    "        return mahalanobis(u, v, VI)\n",
    "\n",
    "    model = NearestNeighbors(n_neighbors=1, metric=mahalanobis_distance, metric_params={'VI': inv_cov_matrix})\n",
    "    model.fit(train_features_genuine)\n",
    "\n",
    "    # # Calculate the Mahalanobis distance for genuine user\n",
    "    user_scores = []\n",
    "    for i in range(test_features_genuine.shape[0]):\n",
    "        test_point = test_features_genuine.iloc[i].values.reshape(1, -1)\n",
    "        test_point_df = pd.DataFrame(test_point, columns=train_features_genuine.columns)\n",
    "        distance, index = model.kneighbors(test_point_df)\n",
    "        user_scores.append(distance[0][0])\n",
    "\n",
    "    # Calculate the Mahalanobis distance for impostor user\n",
    "    impostor_scores = []\n",
    "    for i in range(test_features_impostor.shape[0]):\n",
    "        test_point = test_features_impostor.iloc[i].values.reshape(1, -1)\n",
    "        test_point_df = pd.DataFrame(test_point, columns=train_features_genuine.columns)\n",
    "        distance, index = model.kneighbors(test_point_df)\n",
    "        impostor_scores.append(distance[0][0])\n",
    "\n",
    "    return user_scores, impostor_scores"
   ]
  },
  {
   "cell_type": "markdown",
   "metadata": {},
   "source": [
    "# Manhattan (scaled)"
   ]
  },
  {
   "cell_type": "code",
   "execution_count": 43,
   "metadata": {},
   "outputs": [],
   "source": [
    "# Manhattan distance (scaled)\n",
    "\n",
    "def ManhattanScaled(\n",
    "        train_features_genuine, train_label_genuine,\n",
    "        test_features_genuine, test_label_genuine,\n",
    "        test_features_impostor, test_label_impostor):\n",
    "    \n",
    "    features_columns = train_features_genuine.columns\n",
    "\n",
    "    train_mean_vector = train_features_genuine[features_columns].mean()\n",
    "    train_mad_vector = (train_features_genuine[features_columns].subtract(train_mean_vector).abs()).mean()\n",
    "\n",
    "    # Calculate the Manhattan distance (scaled) for genuine user\n",
    "    user_scores = []\n",
    "    user_distances = test_features_genuine[features_columns].subtract(train_mean_vector).abs().divide(train_mad_vector).sum(axis=1)\n",
    "    user_scores = user_distances.tolist()\n",
    "\n",
    "    # Calculate the Manhattan distance (scaled) for impostor user\n",
    "    impostor_scores = []\n",
    "    impostor_distances = test_features_impostor[features_columns].subtract(train_mean_vector).abs().divide(train_mad_vector).sum(axis=1)\n",
    "    impostor_scores = impostor_distances.tolist()\n",
    "\n",
    "    return user_scores, impostor_scores"
   ]
  },
  {
   "cell_type": "markdown",
   "metadata": {},
   "source": [
    "# Evaluation"
   ]
  },
  {
   "cell_type": "code",
   "execution_count": 37,
   "metadata": {},
   "outputs": [],
   "source": [
    "def calculate_equal_error(user_scores, impostor_scores):\n",
    "    # Combine the scores and create labels\n",
    "    predictions = np.concatenate((user_scores, impostor_scores))\n",
    "    labels = np.concatenate((np.zeros(len(user_scores)), np.ones(len(impostor_scores))))\n",
    "    \n",
    "    # Calculate the ROC curve\n",
    "    fpr, tpr, thresholds = roc_curve(labels, predictions, pos_label=1)\n",
    "\n",
    "    # Calculate the EER\n",
    "    fnr = 1 - tpr\n",
    "    index_threshold = np.nanargmin(np.abs(fpr - fnr))\n",
    "    eer_threshold = thresholds[index_threshold]\n",
    "    eer = fpr[index_threshold]\n",
    "\n",
    "    return eer\n",
    "\n",
    "def calculate_zero_miss_rate(user_scores, impostor_scores):\n",
    "    # Combine the scores and create labels\n",
    "    predictions = np.concatenate((user_scores, impostor_scores))\n",
    "    labels = np.concatenate((np.zeros(len(user_scores)), np.ones(len(impostor_scores))))\n",
    "    \n",
    "    # Calculate the ROC curve\n",
    "    fpr, tpr, thresholds = roc_curve(labels, predictions, pos_label=1)\n",
    "\n",
    "    # Calculate the EER\n",
    "    fnr = 1 - tpr\n",
    "    index_threshold = np.nanargmin(np.abs(fpr - fnr))\n",
    "    eer_threshold = thresholds[index_threshold]\n",
    "    eer = fpr[index_threshold]\n",
    "\n",
    "    # Find the point for zero miss rate (false negative rate is zero)\n",
    "    zero_miss_rate_index = np.where(fnr == 0)[0][0]\n",
    "\n",
    "    # Calculate the zero miss rate\n",
    "    zero_miss_rate = fpr[zero_miss_rate_index]\n",
    "    \n",
    "    return zero_miss_rate"
   ]
  },
  {
   "cell_type": "code",
   "execution_count": 38,
   "metadata": {},
   "outputs": [
    {
     "data": {
      "text/plain": [
       "0.175"
      ]
     },
     "execution_count": 38,
     "metadata": {},
     "output_type": "execute_result"
    }
   ],
   "source": [
    "calculate_zero_miss_rate(*normalizing_distance(*nearest_neighbor_mahalanobis(*split_data(df, 19))))"
   ]
  },
  {
   "cell_type": "markdown",
   "metadata": {},
   "source": [
    "# Average EER and ZMR by nearest_neighbor_mahalanobis"
   ]
  },
  {
   "cell_type": "code",
   "execution_count": 225,
   "metadata": {},
   "outputs": [
    {
     "name": "stdout",
     "output_type": "stream",
     "text": [
      "Average EER: 0.09950980392156865\n",
      "Average ZMR: 0.4675490196078431\n"
     ]
    }
   ],
   "source": [
    "# # Calculate the Equal Error Rate (EER)\n",
    "# eer = calculate_equal_error(*nearest_neighbor_mahalanobis(*split_data(df, 19)))\n",
    "# print(f\"Equal Error Rate (EER): {eer}\")\n",
    "\n",
    "# # Calculate the Zero Miss Rate\n",
    "# zero_miss_rate = calculate_zero_miss_rate(*nearest_neighbor_mahalanobis(*split_data(df, 19)))\n",
    "# print(f\"Zero Miss Rate: {zero_miss_rate}\")\n",
    "\n",
    "ls_eer = []\n",
    "ls_zmr = []\n",
    "\n",
    "for subject in Subject:\n",
    "    # print(f\"Subject: {subject}\")\n",
    "    eer = calculate_equal_error(*normalizing_distance(*nearest_neighbor_mahalanobis(*split_data(df, subject))))\n",
    "    ls_eer.append(eer)\n",
    "    # print(f\"Equal Error Rate (EER): {eer}\")\n",
    "    zero_miss_rate = calculate_zero_miss_rate(*normalizing_distance(*nearest_neighbor_mahalanobis(*split_data(df, subject))))\n",
    "    ls_zmr.append(zero_miss_rate)\n",
    "    # print(f\"Zero Miss Rate: {zero_miss_rate}\")\n",
    "\n",
    "print(f\"Average EER: {np.mean(ls_eer)}\")\n",
    "print(f\"Average ZMR: {np.mean(ls_zmr)}\")"
   ]
  },
  {
   "cell_type": "markdown",
   "metadata": {},
   "source": [
    "# Average EER and ZMR by manhattan (scaled)"
   ]
  },
  {
   "cell_type": "code",
   "execution_count": 44,
   "metadata": {},
   "outputs": [
    {
     "name": "stdout",
     "output_type": "stream",
     "text": [
      "Average EER: 0.09666666666666666\n",
      "Average ZMR: 0.6007843137254902\n"
     ]
    }
   ],
   "source": [
    "ls_eer = []\n",
    "ls_zmr = []\n",
    "\n",
    "for subject in Subject:\n",
    "    # print(f\"Subject: {subject}\")\n",
    "    eer = calculate_equal_error(*normalizing_distance(*ManhattanScaled(*split_data(df, subject))))\n",
    "    ls_eer.append(eer)\n",
    "    # print(f\"Equal Error Rate (EER): {eer}\")\n",
    "    zero_miss_rate = calculate_zero_miss_rate(*normalizing_distance(*ManhattanScaled(*split_data(df, subject))))\n",
    "    ls_zmr.append(zero_miss_rate)\n",
    "    # print(f\"Zero Miss Rate: {zero_miss_rate}\")\n",
    "\n",
    "print(f\"Average EER: {np.mean(ls_eer)}\")\n",
    "print(f\"Average ZMR: {np.mean(ls_zmr)}\")"
   ]
  },
  {
   "cell_type": "markdown",
   "metadata": {},
   "source": [
    "# Plot"
   ]
  },
  {
   "cell_type": "code",
   "execution_count": 39,
   "metadata": {},
   "outputs": [],
   "source": [
    "# Plotting ROC curve\n",
    "\n",
    "def plot_roc_curve(user_scores, impostor_scores):\n",
    "    # Combine the scores and create labels\n",
    "    predictions = np.concatenate((user_scores, impostor_scores))\n",
    "    labels = np.concatenate((np.zeros(len(user_scores)), np.ones(len(impostor_scores))))\n",
    "    \n",
    "    # Calculate false positive rates, true positive rates, and thresholds\n",
    "    fpr, tpr, thresholds = roc_curve(labels, predictions, pos_label=1)\n",
    "    \n",
    "    # Calculate the AUC (Area Under the Curve)\n",
    "    roc_auc = auc(fpr, tpr)\n",
    "\n",
    "    # Find the EER (Equal Error Rate)\n",
    "    fnr = 1 - tpr  # False negative rate\n",
    "    index_threshold = np.nanargmin(np.abs(fpr - fnr))\n",
    "    eer_threshold = thresholds[index_threshold]\n",
    "    eer = fpr[index_threshold]\n",
    "\n",
    "    # Find the point for zero miss rate (false negative rate is zero)\n",
    "    zero_miss_rate_index = np.where(fnr == 0)[0][0]\n",
    "\n",
    "    # Plot the ROC curve\n",
    "    fig = plt.figure(figsize=(5, 5))  # Square plot\n",
    "    ax = fig.add_subplot(111, aspect='equal')\n",
    "    \n",
    "    plt.plot(fpr, tpr, color='darkorange', lw=2, label='ROC curve (area = %0.2f)' % roc_auc)\n",
    "    plt.plot([0, 1], [0, 1], color='navy', lw=2, linestyle='--')\n",
    "    plt.xlim([0.0, 1.0])\n",
    "    plt.ylim([0.0, 1.0])\n",
    "    plt.xlabel('False Positive Rate')\n",
    "    plt.ylabel('True Positive Rate')\n",
    "    plt.title('Receiver Operating Characteristic')\n",
    "    plt.legend(loc=\"lower right\")\n",
    "\n",
    "    # Annotate EER\n",
    "    plt.annotate(f'EER = {eer:.2f}', xy=(fpr[index_threshold], tpr[index_threshold]), xytext=(fpr[index_threshold]+0.1, tpr[index_threshold]-0.1),\n",
    "                arrowprops=dict(facecolor='black', shrink=0.05))\n",
    "\n",
    "    # Annotate Zero Miss Rate\n",
    "    plt.annotate('Zero Miss Rate', xy=(fpr[zero_miss_rate_index], tpr[zero_miss_rate_index]), \n",
    "                xytext=(fpr[zero_miss_rate_index]+0.1, tpr[zero_miss_rate_index]-0.1),\n",
    "                arrowprops=dict(facecolor='blue', shrink=0.05))\n",
    "\n",
    "    plt.show()\n",
    "\n",
    "\n",
    "def plot_fpr_frr_curve(user_scores, impostor_scores):\n",
    "    # Combine the scores and create labels\n",
    "    predictions = np.concatenate((user_scores, impostor_scores))\n",
    "    labels = np.concatenate((np.zeros(len(user_scores)), np.ones(len(impostor_scores))))\n",
    "    \n",
    "    # Calculate false positive rates, true positive rates, and thresholds\n",
    "    fpr, tpr, thresholds = roc_curve(labels, predictions, pos_label=1)\n",
    "    \n",
    "    # Find the EER (Equal Error Rate)\n",
    "    fnr = 1 - tpr  # False negative rate\n",
    "    index_threshold = np.nanargmin(np.abs(fpr - fnr))\n",
    "    eer_threshold = thresholds[index_threshold]\n",
    "    eer = fpr[index_threshold]\n",
    "\n",
    "    # Find the point for zero miss rate (false negative rate is zero)\n",
    "    zero_miss_rate_index = np.where(fnr == 0)[0][0]\n",
    "\n",
    "    # plot the FPR-FRR curve\n",
    "    fig = plt.figure(figsize=(5, 5))  # Square plot\n",
    "    ax = fig.add_subplot(111, aspect='equal')\n",
    "\n",
    "    plt.plot(thresholds, fpr, color='blue', lw=2, label='FPR')\n",
    "    plt.plot(thresholds, fnr, color='red', lw=2, label='FNR')\n",
    "\n",
    "    # draw EER line\n",
    "    plt.axhline(y=eer, color='black', linestyle='--', label=f'EER = {eer:.2f}')\n",
    "    plt.axhline(y=fpr[zero_miss_rate_index], color='green', linestyle='--', label=f'Zero Miss Rate = {fpr[zero_miss_rate_index]:.2f}')\n",
    "\n",
    "    \n",
    "    plt.xlabel('Threshold')\n",
    "    plt.ylabel('Error Rate')\n",
    "    plt.title('FPR-FNR Curve')\n",
    "    plt.legend(loc=\"upper right\")\n",
    "\n",
    "    plt.show()\n",
    "    "
   ]
  },
  {
   "cell_type": "code",
   "execution_count": 40,
   "metadata": {},
   "outputs": [
    {
     "data": {
      "image/png": "[encoded data removed]",
      "text/plain": [
       "<Figure size 500x500 with 1 Axes>"
      ]
     },
     "metadata": {},
     "output_type": "display_data"
    }
   ],
   "source": [
    "plot_roc_curve(*normalizing_distance(*nearest_neighbor_mahalanobis(*split_data(df, 19))))"
   ]
  },
  {
   "cell_type": "code",
   "execution_count": 41,
   "metadata": {},
   "outputs": [
    {
     "data": {
      "image/png": "[encoded data removed]",
      "text/plain": [
       "<Figure size 500x500 with 1 Axes>"
      ]
     },
     "metadata": {},
     "output_type": "display_data"
    }
   ],
   "source": [
    "plot_fpr_frr_curve(*normalizing_distance(*nearest_neighbor_mahalanobis(*split_data(df, 21))))"
   ]
  }
 ],
 "metadata": {
  "kernelspec": {
   "display_name": "base",
   "language": "python",
   "name": "python3"
  },
  "language_info": {
   "codemirror_mode": {
    "name": "ipython",
    "version": 3
   },
   "file_extension": ".py",
   "mimetype": "text/x-python",
   "name": "python",
   "nbconvert_exporter": "python",
   "pygments_lexer": "ipython3",
   "version": "3.11.0"
  }
 },
 "nbformat": 4,
 "nbformat_minor": 2
}
